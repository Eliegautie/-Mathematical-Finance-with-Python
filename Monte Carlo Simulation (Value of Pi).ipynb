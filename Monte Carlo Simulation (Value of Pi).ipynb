{
 "cells": [
  {
   "cell_type": "code",
   "execution_count": 31,
   "id": "0608685b-5222-47d8-abcd-bda1132b2ff8",
   "metadata": {},
   "outputs": [],
   "source": [
    "#Monte Carlo Simulation (Value of Pi)"
   ]
  },
  {
   "cell_type": "code",
   "execution_count": 32,
   "id": "abca2b18-e57f-4ec4-a786-23a668cb2ec8",
   "metadata": {},
   "outputs": [],
   "source": [
    "import random"
   ]
  },
  {
   "cell_type": "code",
   "execution_count": 35,
   "id": "f9d3a5a6-5371-4b3d-9deb-6148881c3be7",
   "metadata": {},
   "outputs": [],
   "source": [
    "def rollDie():\n",
    "    return random.choice([1,2,3,4,5,6])\n",
    "def checkPascal(numTrials):    \n",
    "    numWins = 0\n",
    "    for i in range(numTrials):        \n",
    "        for j in range(24):\n",
    "            d1 = rollDie()\n",
    "            d2 = rollDie()\n",
    "            if d1 == 6 and d2 == 6:\n",
    "                numWins += 1\n",
    "                break\n",
    "    print('Probability of winning = ', numWins/numTrials)"
   ]
  },
  {
   "cell_type": "code",
   "execution_count": 37,
   "id": "e332e08c-8601-450e-a53f-a29afacf4a0e",
   "metadata": {},
   "outputs": [
    {
     "name": "stdout",
     "output_type": "stream",
     "text": [
      "Probability of winning =  0.49492\n"
     ]
    }
   ],
   "source": [
    "checkPascal(100000)"
   ]
  },
  {
   "cell_type": "code",
   "execution_count": 38,
   "id": "adf7d73a-7f66-4245-8033-3e915e3b5c99",
   "metadata": {},
   "outputs": [],
   "source": [
    "def variance(X):\n",
    "    mean = sum(X)/len(X)\n",
    "    tot = 0\n",
    "    for x in X:\n",
    "        tot += (x-mean)**2\n",
    "    return tot/len(X)\n",
    "def stdDev(X):\n",
    "    return variance(X)**0.5    "
   ]
  },
  {
   "cell_type": "code",
   "execution_count": 39,
   "id": "240c934b",
   "metadata": {},
   "outputs": [],
   "source": [
    "def throwNeedles(numNeedles):\n",
    "    inCircle = 0\n",
    "    for Needles in range(1, numNeedles + 1):\n",
    "        x = random.random()\n",
    "        y = random.random()\n",
    "        if (x*x + y*y)**0.5 <= 1: #if dist. of tip of needle from origin is less than1, its inside circle\n",
    "            inCircle += 1\n",
    "           \n",
    "        \n",
    "    #Counting the needles in one quadrant only, so multiply by 4\n",
    "    return 4*(inCircle/numNeedles)\n",
    "\n",
    "# Air of circle 1 (pi) = number of needles inside the circle/ total number of needles"
   ]
  },
  {
   "cell_type": "code",
   "execution_count": 40,
   "id": "6476f80a",
   "metadata": {},
   "outputs": [],
   "source": [
    "def getEst(numNeedles, numTrials):\n",
    "    estimates = []\n",
    "    for t in range(numTrials):\n",
    "        piGuess = throwNeedles(numNeedles)\n",
    "        estimates.append(piGuess)\n",
    "    sDev = stdDev(estimates)\n",
    "    curEst = sum(estimates)/len(estimates)\n",
    "    print('Est. =', str(round(curEst,5)) + ',',\n",
    "         'Std. dev =', str(round(sDev, 5)) + ',',\n",
    "         'Needles =', numNeedles)\n",
    "    return (curEst, sDev)"
   ]
  },
  {
   "cell_type": "code",
   "execution_count": 41,
   "id": "5df8fa1e",
   "metadata": {},
   "outputs": [],
   "source": [
    "def estPi(precision, numTrials):\n",
    "    numNeedles = 1000\n",
    "    sDev = precision\n",
    "    while sDev > precision/1.96:  #95% accuracy required\n",
    "        curEst, sDev = getEst(numNeedles, numTrials)\n",
    "        numNeedles *= 2\n",
    "    return curEst"
   ]
  },
  {
   "cell_type": "code",
   "execution_count": 56,
   "id": "a2d9a4ad",
   "metadata": {},
   "outputs": [
    {
     "name": "stdout",
     "output_type": "stream",
     "text": [
      "Est. = 3.1404, Std. dev = 0.04995, Needles = 1000\n",
      "Est. = 3.14226, Std. dev = 0.03364, Needles = 2000\n",
      "Est. = 3.1406, Std. dev = 0.02877, Needles = 4000\n",
      "Est. = 3.14353, Std. dev = 0.01695, Needles = 8000\n",
      "Est. = 3.14195, Std. dev = 0.01327, Needles = 16000\n",
      "Est. = 3.14194, Std. dev = 0.00951, Needles = 32000\n",
      "Est. = 3.14294, Std. dev = 0.00705, Needles = 64000\n",
      "Est. = 3.14147, Std. dev = 0.0047, Needles = 128000\n"
     ]
    },
    {
     "data": {
      "text/plain": [
       "3.1414746874999993"
      ]
     },
     "execution_count": 56,
     "metadata": {},
     "output_type": "execute_result"
    }
   ],
   "source": [
    "estPi(0.01, 100) #3.14xxxx"
   ]
  }
 ],
 "metadata": {
  "kernelspec": {
   "display_name": "Python 3 (ipykernel)",
   "language": "python",
   "name": "python3"
  },
  "language_info": {
   "codemirror_mode": {
    "name": "ipython",
    "version": 3
   },
   "file_extension": ".py",
   "mimetype": "text/x-python",
   "name": "python",
   "nbconvert_exporter": "python",
   "pygments_lexer": "ipython3",
   "version": "3.9.13"
  }
 },
 "nbformat": 4,
 "nbformat_minor": 5
}
